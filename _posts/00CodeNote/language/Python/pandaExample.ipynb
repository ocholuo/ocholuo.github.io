{
    "cells": [
        {
            "cell_type": "markdown",
            "metadata": {},
            "source": [
                "## note"
            ]
        },
        {
            "cell_type": "code",
            "execution_count": 4,
            "metadata": {},
            "outputs": [],
            "source": [
                "import numpy as np\n",
                "import pandas as pd"
            ]
        },
        {
            "cell_type": "code",
            "execution_count": 7,
            "metadata": {},
            "outputs": [
                {
                    "name": "stdout",
                    "output_type": "stream",
                    "text": [
                        "0    [1, 2, 3, 4]\n",
                        "1          [a, b]\n",
                        "dtype: object\n",
                        "<class 'pandas.core.series.Series'>\n"
                    ]
                }
            ],
            "source": [
                "data = [1,2,3,4]\n",
                "series1 = pd.Series(data)\n",
                "series1\n",
                "\n",
                "data = [[1,2,3,4],['a','b']]\n",
                "series1 = pd.Series(data)\n",
                "print(series1)\n",
                "print(type(series1))"
            ]
        },
        {
            "cell_type": "code",
            "execution_count": 9,
            "metadata": {},
            "outputs": [
                {
                    "name": "stdout",
                    "output_type": "stream",
                    "text": [
                        "a    1\n",
                        "b    2\n",
                        "dtype: int64\n"
                    ]
                }
            ],
            "source": [
                "data = [1,2,3]\n",
                "series1 = pd.Series(data, index=['a','b','c'])\n",
                "print(series1['a':'b'])"
            ]
        },
        {
            "cell_type": "code",
            "execution_count": 14,
            "metadata": {},
            "outputs": [
                {
                    "data": {
                        "text/html": [
                            "<div>\n",
                            "<style scoped>\n",
                            "    .dataframe tbody tr th:only-of-type {\n",
                            "        vertical-align: middle;\n",
                            "    }\n",
                            "\n",
                            "    .dataframe tbody tr th {\n",
                            "        vertical-align: top;\n",
                            "    }\n",
                            "\n",
                            "    .dataframe thead th {\n",
                            "        text-align: right;\n",
                            "    }\n",
                            "</style>\n",
                            "<table border=\"1\" class=\"dataframe\">\n",
                            "  <thead>\n",
                            "    <tr style=\"text-align: right;\">\n",
                            "      <th></th>\n",
                            "      <th>0</th>\n",
                            "      <th>1</th>\n",
                            "      <th>2</th>\n",
                            "      <th>3</th>\n",
                            "      <th>4</th>\n",
                            "    </tr>\n",
                            "  </thead>\n",
                            "  <tbody>\n",
                            "    <tr>\n",
                            "      <th>0</th>\n",
                            "      <td>1</td>\n",
                            "      <td>2</td>\n",
                            "      <td>3</td>\n",
                            "      <td>4.0</td>\n",
                            "      <td>5.0</td>\n",
                            "    </tr>\n",
                            "    <tr>\n",
                            "      <th>1</th>\n",
                            "      <td>1</td>\n",
                            "      <td>2</td>\n",
                            "      <td>3</td>\n",
                            "      <td>NaN</td>\n",
                            "      <td>NaN</td>\n",
                            "    </tr>\n",
                            "  </tbody>\n",
                            "</table>\n",
                            "</div>"
                        ],
                        "text/plain": [
                            "   0  1  2    3    4\n",
                            "0  1  2  3  4.0  5.0\n",
                            "1  1  2  3  NaN  NaN"
                        ]
                    },
                    "execution_count": 14,
                    "metadata": {},
                    "output_type": "execute_result"
                }
            ],
            "source": [
                "data = [[1,2,3,4,5], [1,2,3]]\n",
                "df = pd.DataFrame(data)\n",
                "df"
            ]
        },
        {
            "cell_type": "code",
            "execution_count": 15,
            "metadata": {
                "scrolled": false
            },
            "outputs": [
                {
                    "data": {
                        "text/html": [
                            "<div>\n",
                            "<style scoped>\n",
                            "    .dataframe tbody tr th:only-of-type {\n",
                            "        vertical-align: middle;\n",
                            "    }\n",
                            "\n",
                            "    .dataframe tbody tr th {\n",
                            "        vertical-align: top;\n",
                            "    }\n",
                            "\n",
                            "    .dataframe thead th {\n",
                            "        text-align: right;\n",
                            "    }\n",
                            "</style>\n",
                            "<table border=\"1\" class=\"dataframe\">\n",
                            "  <thead>\n",
                            "    <tr style=\"text-align: right;\">\n",
                            "      <th></th>\n",
                            "      <th>0</th>\n",
                            "    </tr>\n",
                            "  </thead>\n",
                            "  <tbody>\n",
                            "    <tr>\n",
                            "      <th>a</th>\n",
                            "      <td>6</td>\n",
                            "    </tr>\n",
                            "    <tr>\n",
                            "      <th>b</th>\n",
                            "      <td>12</td>\n",
                            "    </tr>\n",
                            "  </tbody>\n",
                            "</table>\n",
                            "</div>"
                        ],
                        "text/plain": [
                            "    0\n",
                            "a   6\n",
                            "b  12"
                        ]
                    },
                    "execution_count": 15,
                    "metadata": {},
                    "output_type": "execute_result"
                }
            ],
            "source": [
                "data = pd.Series([6,12], index=['a','b'])\n",
                "df = pd.DataFrame(data)\n",
                "df"
            ]
        },
        {
            "cell_type": "code",
            "execution_count": 16,
            "metadata": {},
            "outputs": [
                {
                    "data": {
                        "text/html": [
                            "<div>\n",
                            "<style scoped>\n",
                            "    .dataframe tbody tr th:only-of-type {\n",
                            "        vertical-align: middle;\n",
                            "    }\n",
                            "\n",
                            "    .dataframe tbody tr th {\n",
                            "        vertical-align: top;\n",
                            "    }\n",
                            "\n",
                            "    .dataframe thead th {\n",
                            "        text-align: right;\n",
                            "    }\n",
                            "</style>\n",
                            "<table border=\"1\" class=\"dataframe\">\n",
                            "  <thead>\n",
                            "    <tr style=\"text-align: right;\">\n",
                            "      <th></th>\n",
                            "      <th>A</th>\n",
                            "      <th>B</th>\n",
                            "    </tr>\n",
                            "  </thead>\n",
                            "  <tbody>\n",
                            "    <tr>\n",
                            "      <th>0</th>\n",
                            "      <td>a</td>\n",
                            "      <td>b</td>\n",
                            "    </tr>\n",
                            "    <tr>\n",
                            "      <th>1</th>\n",
                            "      <td>6</td>\n",
                            "      <td>12</td>\n",
                            "    </tr>\n",
                            "  </tbody>\n",
                            "</table>\n",
                            "</div>"
                        ],
                        "text/plain": [
                            "   A   B\n",
                            "0  a   b\n",
                            "1  6  12"
                        ]
                    },
                    "execution_count": 16,
                    "metadata": {},
                    "output_type": "execute_result"
                }
            ],
            "source": [
                "data = np.array([['a','b'], [6,12]])\n",
                "df = pd.DataFrame( { 'A':data[:,0], 'B':data[:,1] } )\n",
                "df"
            ]
        },
        {
            "cell_type": "code",
            "execution_count": 19,
            "metadata": {},
            "outputs": [
                {
                    "data": {
                        "text/html": [
                            "<div>\n",
                            "<style scoped>\n",
                            "    .dataframe tbody tr th:only-of-type {\n",
                            "        vertical-align: middle;\n",
                            "    }\n",
                            "\n",
                            "    .dataframe tbody tr th {\n",
                            "        vertical-align: top;\n",
                            "    }\n",
                            "\n",
                            "    .dataframe thead th {\n",
                            "        text-align: right;\n",
                            "    }\n",
                            "</style>\n",
                            "<table border=\"1\" class=\"dataframe\">\n",
                            "  <thead>\n",
                            "    <tr style=\"text-align: right;\">\n",
                            "      <th></th>\n",
                            "      <th>a</th>\n",
                            "      <th>b</th>\n",
                            "      <th>FruitName</th>\n",
                            "    </tr>\n",
                            "  </thead>\n",
                            "  <tbody>\n",
                            "    <tr>\n",
                            "      <th>0</th>\n",
                            "      <td>apple</td>\n",
                            "      <td>10</td>\n",
                            "      <td>apple</td>\n",
                            "    </tr>\n",
                            "    <tr>\n",
                            "      <th>1</th>\n",
                            "      <td>mango</td>\n",
                            "      <td>12</td>\n",
                            "      <td>mango</td>\n",
                            "    </tr>\n",
                            "  </tbody>\n",
                            "</table>\n",
                            "</div>"
                        ],
                        "text/plain": [
                            "       a   b FruitName\n",
                            "0  apple  10     apple\n",
                            "1  mango  12     mango"
                        ]
                    },
                    "execution_count": 19,
                    "metadata": {},
                    "output_type": "execute_result"
                }
            ],
            "source": [
                "data = {\"a\": ['BigBlueberry', 'mango'], \"b\": [10,12]}\n",
                "df = pd.DataFrame(data)\n",
                "df[\"FruitName\"] = df[\"a\"]\n",
                "df"
            ]
        },
        {
            "cell_type": "code",
            "execution_count": 36,
            "metadata": {},
            "outputs": [
                {
                    "data": {
                        "text/html": [
                            "<div>\n",
                            "<style scoped>\n",
                            "    .dataframe tbody tr th:only-of-type {\n",
                            "        vertical-align: middle;\n",
                            "    }\n",
                            "\n",
                            "    .dataframe tbody tr th {\n",
                            "        vertical-align: top;\n",
                            "    }\n",
                            "\n",
                            "    .dataframe thead th {\n",
                            "        text-align: right;\n",
                            "    }\n",
                            "</style>\n",
                            "<table border=\"1\" class=\"dataframe\">\n",
                            "  <thead>\n",
                            "    <tr style=\"text-align: right;\">\n",
                            "      <th></th>\n",
                            "      <th>a</th>\n",
                            "    </tr>\n",
                            "  </thead>\n",
                            "  <tbody>\n",
                            "    <tr>\n",
                            "      <th>a</th>\n",
                            "      <td>1</td>\n",
                            "    </tr>\n",
                            "    <tr>\n",
                            "      <th>b</th>\n",
                            "      <td>2</td>\n",
                            "    </tr>\n",
                            "  </tbody>\n",
                            "</table>\n",
                            "</div>"
                        ],
                        "text/plain": [
                            "   a\n",
                            "a  1\n",
                            "b  2"
                        ]
                    },
                    "execution_count": 36,
                    "metadata": {},
                    "output_type": "execute_result"
                }
            ],
            "source": [
                "data = [1,2]\n",
                "\n",
                "df = pd.DataFrame(data)\n",
                "\n",
                "df.rename(index = {0:\"a\", 1:\"b\"}, inplace=True)\n",
                "df.rename(index = str, columns={0:\"A\"}, inplace=True)\n",
                "df.columns=[\"a\"]\n",
                "\n",
                "df"
            ]
        },
        {
            "cell_type": "code",
            "execution_count": 42,
            "metadata": {},
            "outputs": [
                {
                    "name": "stdout",
                    "output_type": "stream",
                    "text": [
                        "     0     1  2    3      4    5\n",
                        "0  py1   NaN  8  NaN  Game1  NaN\n",
                        "1  py2  None  9  NaN  Game2  NaN\n",
                        "     0    1    2      3    4      5\n",
                        "0  NaN  py5  NaN   Kick  NaN  Game5\n",
                        "1  NaN  py6  NaN  Elbow  NaN  Game6\n"
                    ]
                },
                {
                    "data": {
                        "text/html": [
                            "<div>\n",
                            "<style scoped>\n",
                            "    .dataframe tbody tr th:only-of-type {\n",
                            "        vertical-align: middle;\n",
                            "    }\n",
                            "\n",
                            "    .dataframe tbody tr th {\n",
                            "        vertical-align: top;\n",
                            "    }\n",
                            "\n",
                            "    .dataframe thead th {\n",
                            "        text-align: right;\n",
                            "    }\n",
                            "</style>\n",
                            "<table border=\"1\" class=\"dataframe\">\n",
                            "  <thead>\n",
                            "    <tr style=\"text-align: right;\">\n",
                            "      <th></th>\n",
                            "      <th>0</th>\n",
                            "      <th>1</th>\n",
                            "      <th>2</th>\n",
                            "      <th>3</th>\n",
                            "      <th>4</th>\n",
                            "      <th>5</th>\n",
                            "    </tr>\n",
                            "  </thead>\n",
                            "  <tbody>\n",
                            "    <tr>\n",
                            "      <th>0</th>\n",
                            "      <td>py1</td>\n",
                            "      <td>NaN</td>\n",
                            "      <td>8</td>\n",
                            "      <td>NaN</td>\n",
                            "      <td>Game1</td>\n",
                            "      <td>NaN</td>\n",
                            "    </tr>\n",
                            "    <tr>\n",
                            "      <th>1</th>\n",
                            "      <td>py2</td>\n",
                            "      <td>None</td>\n",
                            "      <td>9</td>\n",
                            "      <td>NaN</td>\n",
                            "      <td>Game2</td>\n",
                            "      <td>NaN</td>\n",
                            "    </tr>\n",
                            "    <tr>\n",
                            "      <th>0</th>\n",
                            "      <td>NaN</td>\n",
                            "      <td>py5</td>\n",
                            "      <td>NaN</td>\n",
                            "      <td>Kick</td>\n",
                            "      <td>NaN</td>\n",
                            "      <td>Game5</td>\n",
                            "    </tr>\n",
                            "    <tr>\n",
                            "      <th>1</th>\n",
                            "      <td>NaN</td>\n",
                            "      <td>py6</td>\n",
                            "      <td>NaN</td>\n",
                            "      <td>Elbow</td>\n",
                            "      <td>NaN</td>\n",
                            "      <td>Game6</td>\n",
                            "    </tr>\n",
                            "  </tbody>\n",
                            "</table>\n",
                            "</div>"
                        ],
                        "text/plain": [
                            "     0     1    2      3      4      5\n",
                            "0  py1   NaN    8    NaN  Game1    NaN\n",
                            "1  py2  None    9    NaN  Game2    NaN\n",
                            "0  NaN   py5  NaN   Kick    NaN  Game5\n",
                            "1  NaN   py6  NaN  Elbow    NaN  Game6"
                        ]
                    },
                    "execution_count": 42,
                    "metadata": {},
                    "output_type": "execute_result"
                }
            ],
            "source": [
                "\n",
                "data1 = [[\"py1\",\"NaN\", 8, \"NaN\", \"Game1\", \"NaN\"], [\"py2\",\"None\", 9, \"NaN\", \"Game2\", \"NaN\"]]\n",
                "\n",
                "data2 = [[\"NaN\", \"py5\", \"NaN\", \"Kick\", \"NaN\", \"Game5\"], [\"NaN\", \"py6\", \"NaN\", \"Elbow\", \"NaN\", \"Game6\"]]\n",
                "\n",
                "df1 = pd.DataFrame(data1)\n",
                "\n",
                "df2 = pd.DataFrame(data2)\n",
                "\n",
                "print(df1)\n",
                "\n",
                "print(df2)\n",
                "\n",
                "pd.concat([df1, df2])\n",
                "\n",
                "\n"
            ]
        },
        {
            "cell_type": "code",
            "execution_count": 58,
            "metadata": {},
            "outputs": [
                {
                    "name": "stdout",
                    "output_type": "stream",
                    "text": [
                        "   A  B  C  D\n",
                        "0  1  4  1  4\n",
                        "1  2  5  2  5\n",
                        "2  3  6  3  6\n",
                        "   A  C  E  F\n",
                        "0  7  1  7  1\n",
                        "1  8  0  8  0\n",
                        "2  9  1  9  1\n"
                    ]
                }
            ],
            "source": [
                "data1 = ({\"A\":[1,2,3], \"B\":[4,5,6],\"C\":[1,2,3], \"D\":[4,5,6]})\n",
                "data2 = ({\"A\":[7,8,9], \"C\":[1,0,1],\"E\":[7,8,9], \"F\":[1,0,1]})\n",
                "df1 = pd.DataFrame(data1)\n",
                "df2 = pd.DataFrame(data2)\n",
                "print(df1)\n",
                "print(df2)"
            ]
        },
        {
            "cell_type": "code",
            "execution_count": 59,
            "metadata": {},
            "outputs": [
                {
                    "data": {
                        "text/html": [
                            "<div>\n",
                            "<style scoped>\n",
                            "    .dataframe tbody tr th:only-of-type {\n",
                            "        vertical-align: middle;\n",
                            "    }\n",
                            "\n",
                            "    .dataframe tbody tr th {\n",
                            "        vertical-align: top;\n",
                            "    }\n",
                            "\n",
                            "    .dataframe thead th {\n",
                            "        text-align: right;\n",
                            "    }\n",
                            "</style>\n",
                            "<table border=\"1\" class=\"dataframe\">\n",
                            "  <thead>\n",
                            "    <tr style=\"text-align: right;\">\n",
                            "      <th></th>\n",
                            "      <th>A</th>\n",
                            "      <th>B</th>\n",
                            "      <th>C</th>\n",
                            "      <th>D</th>\n",
                            "      <th>E</th>\n",
                            "      <th>F</th>\n",
                            "    </tr>\n",
                            "  </thead>\n",
                            "  <tbody>\n",
                            "    <tr>\n",
                            "      <th>0</th>\n",
                            "      <td>1</td>\n",
                            "      <td>4.0</td>\n",
                            "      <td>1</td>\n",
                            "      <td>4.0</td>\n",
                            "      <td>NaN</td>\n",
                            "      <td>NaN</td>\n",
                            "    </tr>\n",
                            "    <tr>\n",
                            "      <th>1</th>\n",
                            "      <td>2</td>\n",
                            "      <td>5.0</td>\n",
                            "      <td>2</td>\n",
                            "      <td>5.0</td>\n",
                            "      <td>NaN</td>\n",
                            "      <td>NaN</td>\n",
                            "    </tr>\n",
                            "    <tr>\n",
                            "      <th>2</th>\n",
                            "      <td>3</td>\n",
                            "      <td>6.0</td>\n",
                            "      <td>3</td>\n",
                            "      <td>6.0</td>\n",
                            "      <td>NaN</td>\n",
                            "      <td>NaN</td>\n",
                            "    </tr>\n",
                            "    <tr>\n",
                            "      <th>0</th>\n",
                            "      <td>7</td>\n",
                            "      <td>NaN</td>\n",
                            "      <td>1</td>\n",
                            "      <td>NaN</td>\n",
                            "      <td>7.0</td>\n",
                            "      <td>1.0</td>\n",
                            "    </tr>\n",
                            "    <tr>\n",
                            "      <th>1</th>\n",
                            "      <td>8</td>\n",
                            "      <td>NaN</td>\n",
                            "      <td>0</td>\n",
                            "      <td>NaN</td>\n",
                            "      <td>8.0</td>\n",
                            "      <td>0.0</td>\n",
                            "    </tr>\n",
                            "    <tr>\n",
                            "      <th>2</th>\n",
                            "      <td>9</td>\n",
                            "      <td>NaN</td>\n",
                            "      <td>1</td>\n",
                            "      <td>NaN</td>\n",
                            "      <td>9.0</td>\n",
                            "      <td>1.0</td>\n",
                            "    </tr>\n",
                            "  </tbody>\n",
                            "</table>\n",
                            "</div>"
                        ],
                        "text/plain": [
                            "   A    B  C    D    E    F\n",
                            "0  1  4.0  1  4.0  NaN  NaN\n",
                            "1  2  5.0  2  5.0  NaN  NaN\n",
                            "2  3  6.0  3  6.0  NaN  NaN\n",
                            "0  7  NaN  1  NaN  7.0  1.0\n",
                            "1  8  NaN  0  NaN  8.0  0.0\n",
                            "2  9  NaN  1  NaN  9.0  1.0"
                        ]
                    },
                    "execution_count": 59,
                    "metadata": {},
                    "output_type": "execute_result"
                }
            ],
            "source": [
                "pd.concat([df1,df2])"
            ]
        },
        {
            "cell_type": "code",
            "execution_count": 60,
            "metadata": {},
            "outputs": [
                {
                    "data": {
                        "text/html": [
                            "<div>\n",
                            "<style scoped>\n",
                            "    .dataframe tbody tr th:only-of-type {\n",
                            "        vertical-align: middle;\n",
                            "    }\n",
                            "\n",
                            "    .dataframe tbody tr th {\n",
                            "        vertical-align: top;\n",
                            "    }\n",
                            "\n",
                            "    .dataframe thead th {\n",
                            "        text-align: right;\n",
                            "    }\n",
                            "</style>\n",
                            "<table border=\"1\" class=\"dataframe\">\n",
                            "  <thead>\n",
                            "    <tr style=\"text-align: right;\">\n",
                            "      <th></th>\n",
                            "      <th>A</th>\n",
                            "      <th>B</th>\n",
                            "      <th>C</th>\n",
                            "      <th>D</th>\n",
                            "      <th>A</th>\n",
                            "      <th>C</th>\n",
                            "      <th>E</th>\n",
                            "      <th>F</th>\n",
                            "    </tr>\n",
                            "  </thead>\n",
                            "  <tbody>\n",
                            "    <tr>\n",
                            "      <th>0</th>\n",
                            "      <td>1</td>\n",
                            "      <td>4</td>\n",
                            "      <td>1</td>\n",
                            "      <td>4</td>\n",
                            "      <td>7</td>\n",
                            "      <td>1</td>\n",
                            "      <td>7</td>\n",
                            "      <td>1</td>\n",
                            "    </tr>\n",
                            "    <tr>\n",
                            "      <th>1</th>\n",
                            "      <td>2</td>\n",
                            "      <td>5</td>\n",
                            "      <td>2</td>\n",
                            "      <td>5</td>\n",
                            "      <td>8</td>\n",
                            "      <td>0</td>\n",
                            "      <td>8</td>\n",
                            "      <td>0</td>\n",
                            "    </tr>\n",
                            "    <tr>\n",
                            "      <th>2</th>\n",
                            "      <td>3</td>\n",
                            "      <td>6</td>\n",
                            "      <td>3</td>\n",
                            "      <td>6</td>\n",
                            "      <td>9</td>\n",
                            "      <td>1</td>\n",
                            "      <td>9</td>\n",
                            "      <td>1</td>\n",
                            "    </tr>\n",
                            "  </tbody>\n",
                            "</table>\n",
                            "</div>"
                        ],
                        "text/plain": [
                            "   A  B  C  D  A  C  E  F\n",
                            "0  1  4  1  4  7  1  7  1\n",
                            "1  2  5  2  5  8  0  8  0\n",
                            "2  3  6  3  6  9  1  9  1"
                        ]
                    },
                    "execution_count": 60,
                    "metadata": {},
                    "output_type": "execute_result"
                }
            ],
            "source": [
                "pd.concat([df1, df2], axis=1, join=\"inner\")"
            ]
        },
        {
            "cell_type": "code",
            "execution_count": 93,
            "metadata": {
                "scrolled": true
            },
            "outputs": [
                {
                    "name": "stdout",
                    "output_type": "stream",
                    "text": [
                        "   key  value\n",
                        "0    1      4\n",
                        "1    2      5\n",
                        "2    3      6\n",
                        "   key  value\n",
                        "0    3      1\n",
                        "1    8      0\n",
                        "2    9      1\n"
                    ]
                },
                {
                    "data": {
                        "text/html": [
                            "<div>\n",
                            "<style scoped>\n",
                            "    .dataframe tbody tr th:only-of-type {\n",
                            "        vertical-align: middle;\n",
                            "    }\n",
                            "\n",
                            "    .dataframe tbody tr th {\n",
                            "        vertical-align: top;\n",
                            "    }\n",
                            "\n",
                            "    .dataframe thead th {\n",
                            "        text-align: right;\n",
                            "    }\n",
                            "</style>\n",
                            "<table border=\"1\" class=\"dataframe\">\n",
                            "  <thead>\n",
                            "    <tr style=\"text-align: right;\">\n",
                            "      <th></th>\n",
                            "      <th>key</th>\n",
                            "      <th>value_x</th>\n",
                            "      <th>value_y</th>\n",
                            "    </tr>\n",
                            "  </thead>\n",
                            "  <tbody>\n",
                            "    <tr>\n",
                            "      <th>0</th>\n",
                            "      <td>3</td>\n",
                            "      <td>6</td>\n",
                            "      <td>1</td>\n",
                            "    </tr>\n",
                            "  </tbody>\n",
                            "</table>\n",
                            "</div>"
                        ],
                        "text/plain": [
                            "   key  value_x  value_y\n",
                            "0    3        6        1"
                        ]
                    },
                    "execution_count": 93,
                    "metadata": {},
                    "output_type": "execute_result"
                }
            ],
            "source": [
                "\n",
                "\n",
                "\n",
                "data1 = ({\"key\":[1,2,3], \"value\":[4,5,6]})\n",
                "data2 = ({\"key\":[3,8,9], \"value\":[1,0,1]})\n",
                "\n",
                "df1 = pd.DataFrame(data1)\n",
                "df2 = pd.DataFrame(data2)\n",
                "print(df1)\n",
                "print(df2)\n",
                "\n",
                "df1.merge(df2, on='key', how=\"inner\")"
            ]
        },
        {
            "cell_type": "code",
            "execution_count": 112,
            "metadata": {},
            "outputs": [
                {
                    "name": "stdout",
                    "output_type": "stream",
                    "text": [
                        "   A  B\n",
                        "0  1  4\n",
                        "1  2  5\n",
                        "2  3  6\n",
                        "   A  B\n",
                        "0  6  1\n",
                        "1  8  3\n",
                        "2  9  1\n"
                    ]
                },
                {
                    "data": {
                        "text/html": [
                            "<div>\n",
                            "<style scoped>\n",
                            "    .dataframe tbody tr th:only-of-type {\n",
                            "        vertical-align: middle;\n",
                            "    }\n",
                            "\n",
                            "    .dataframe tbody tr th {\n",
                            "        vertical-align: top;\n",
                            "    }\n",
                            "\n",
                            "    .dataframe thead th {\n",
                            "        text-align: right;\n",
                            "    }\n",
                            "</style>\n",
                            "<table border=\"1\" class=\"dataframe\">\n",
                            "  <thead>\n",
                            "    <tr style=\"text-align: right;\">\n",
                            "      <th></th>\n",
                            "      <th>A_x</th>\n",
                            "      <th>B</th>\n",
                            "      <th>A_y</th>\n",
                            "    </tr>\n",
                            "  </thead>\n",
                            "  <tbody>\n",
                            "    <tr>\n",
                            "      <th>0</th>\n",
                            "      <td>1.0</td>\n",
                            "      <td>4</td>\n",
                            "      <td>NaN</td>\n",
                            "    </tr>\n",
                            "    <tr>\n",
                            "      <th>1</th>\n",
                            "      <td>2.0</td>\n",
                            "      <td>5</td>\n",
                            "      <td>NaN</td>\n",
                            "    </tr>\n",
                            "    <tr>\n",
                            "      <th>2</th>\n",
                            "      <td>3.0</td>\n",
                            "      <td>6</td>\n",
                            "      <td>NaN</td>\n",
                            "    </tr>\n",
                            "    <tr>\n",
                            "      <th>3</th>\n",
                            "      <td>NaN</td>\n",
                            "      <td>1</td>\n",
                            "      <td>6.0</td>\n",
                            "    </tr>\n",
                            "    <tr>\n",
                            "      <th>4</th>\n",
                            "      <td>NaN</td>\n",
                            "      <td>1</td>\n",
                            "      <td>9.0</td>\n",
                            "    </tr>\n",
                            "    <tr>\n",
                            "      <th>5</th>\n",
                            "      <td>NaN</td>\n",
                            "      <td>3</td>\n",
                            "      <td>8.0</td>\n",
                            "    </tr>\n",
                            "  </tbody>\n",
                            "</table>\n",
                            "</div>"
                        ],
                        "text/plain": [
                            "   A_x  B  A_y\n",
                            "0  1.0  4  NaN\n",
                            "1  2.0  5  NaN\n",
                            "2  3.0  6  NaN\n",
                            "3  NaN  1  6.0\n",
                            "4  NaN  1  9.0\n",
                            "5  NaN  3  8.0"
                        ]
                    },
                    "execution_count": 112,
                    "metadata": {},
                    "output_type": "execute_result"
                }
            ],
            "source": [
                "data1 = ({\"A\":[1,2,3], \"B\":[4,5,6]})\n",
                "data2 = ({\"A\":[6,8,9], \"B\":[1,3,1]})\n",
                "df1 = pd.DataFrame(data1)\n",
                "df2 = pd.DataFrame(data2)\n",
                "print(df1)\n",
                "print(df2)\n",
                "pd.merge(df1, df2, on=[\"B\"], how=\"outer\")"
            ]
        },
        {
            "cell_type": "code",
            "execution_count": 116,
            "metadata": {},
            "outputs": [
                {
                    "data": {
                        "text/html": [
                            "<div>\n",
                            "<style scoped>\n",
                            "    .dataframe tbody tr th:only-of-type {\n",
                            "        vertical-align: middle;\n",
                            "    }\n",
                            "\n",
                            "    .dataframe tbody tr th {\n",
                            "        vertical-align: top;\n",
                            "    }\n",
                            "\n",
                            "    .dataframe thead th {\n",
                            "        text-align: right;\n",
                            "    }\n",
                            "</style>\n",
                            "<table border=\"1\" class=\"dataframe\">\n",
                            "  <thead>\n",
                            "    <tr style=\"text-align: right;\">\n",
                            "      <th></th>\n",
                            "      <th>a</th>\n",
                            "      <th>b</th>\n",
                            "      <th>c</th>\n",
                            "      <th>etc.</th>\n",
                            "    </tr>\n",
                            "  </thead>\n",
                            "  <tbody>\n",
                            "    <tr>\n",
                            "      <th>0</th>\n",
                            "      <td>zombiesgotmytongue@gmail.com</td>\n",
                            "      <td>chuckyp1-----------------Balance</td>\n",
                            "      <td>32.01, Can Withdraw</td>\n",
                            "      <td>US$32.01</td>\n",
                            "    </tr>\n",
                            "    <tr>\n",
                            "      <th>1</th>\n",
                            "      <td>abutler315@gmail.com</td>\n",
                            "      <td>annab123-----------------Balance</td>\n",
                            "      <td>2.00, Can Withdraw</td>\n",
                            "      <td>US$2.00</td>\n",
                            "    </tr>\n",
                            "    <tr>\n",
                            "      <th>2</th>\n",
                            "      <td>saum.bhatnagar@gmail.comConfusedenbonzakhura--...</td>\n",
                            "      <td>9.87, Can Withdraw</td>\n",
                            "      <td>US$9.87</td>\n",
                            "      <td>NaN</td>\n",
                            "    </tr>\n",
                            "    <tr>\n",
                            "      <th>3</th>\n",
                            "      <td>suchit143@gmail.com</td>\n",
                            "      <td>computer0143-----------------Balance</td>\n",
                            "      <td>1300, Can Withdraw</td>\n",
                            "      <td>\\u20b91,300</td>\n",
                            "    </tr>\n",
                            "    <tr>\n",
                            "      <th>4</th>\n",
                            "      <td>diana.kubasova@gmail.com</td>\n",
                            "      <td>lacitis3----------Balance</td>\n",
                            "      <td>9.63, Can Withdraw</td>\n",
                            "      <td>9,63\\u20ac</td>\n",
                            "    </tr>\n",
                            "    <tr>\n",
                            "      <th>5</th>\n",
                            "      <td>carwilliamson@gmail.com</td>\n",
                            "      <td>tomas1717----------Balance</td>\n",
                            "      <td>10.79, Can Withdraw</td>\n",
                            "      <td>US$10.79</td>\n",
                            "    </tr>\n",
                            "  </tbody>\n",
                            "</table>\n",
                            "</div>"
                        ],
                        "text/plain": [
                            "                                                   a  \\\n",
                            "0                       zombiesgotmytongue@gmail.com   \n",
                            "1                               abutler315@gmail.com   \n",
                            "2  saum.bhatnagar@gmail.comConfusedenbonzakhura--...   \n",
                            "3                                suchit143@gmail.com   \n",
                            "4                           diana.kubasova@gmail.com   \n",
                            "5                            carwilliamson@gmail.com   \n",
                            "\n",
                            "                                      b                     c          etc.  \n",
                            "0      chuckyp1-----------------Balance   32.01, Can Withdraw      US$32.01  \n",
                            "1      annab123-----------------Balance    2.00, Can Withdraw       US$2.00  \n",
                            "2                    9.87, Can Withdraw               US$9.87           NaN  \n",
                            "3  computer0143-----------------Balance    1300, Can Withdraw   \\u20b91,300  \n",
                            "4             lacitis3----------Balance    9.63, Can Withdraw    9,63\\u20ac  \n",
                            "5            tomas1717----------Balance   10.79, Can Withdraw      US$10.79  "
                        ]
                    },
                    "execution_count": 116,
                    "metadata": {},
                    "output_type": "execute_result"
                }
            ],
            "source": [
                "\n",
                "data = pd.read_csv('/Users/luo/Documents/code/python3/jupyter/passwd/new/Post3.txt',sep=\":\", header=None)\n",
                "data.columns = [\"a\", \"b\", \"c\", \"etc.\"]\n",
                "data\n"
            ]
        },
        {
            "cell_type": "code",
            "execution_count": null,
            "metadata": {},
            "outputs": [],
            "source": []
        }
    ],
    "metadata": {
        "kernelspec": {
            "display_name": "Python 3",
            "language": "python",
            "name": "python3"
        },
        "language_info": {
            "codemirror_mode": {
                "name": "ipython",
                "version": 3
            },
            "file_extension": ".py",
            "mimetype": "text/x-python",
            "name": "python",
            "nbconvert_exporter": "python",
            "pygments_lexer": "ipython3",
            "version": "3.8.3"
        }
    },
    "nbformat": 4,
    "nbformat_minor": 4
}
